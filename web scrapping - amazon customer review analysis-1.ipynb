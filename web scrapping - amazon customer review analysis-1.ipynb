{
 "cells": [
  {
   "cell_type": "markdown",
   "id": "98c71a6a",
   "metadata": {},
   "source": [
    "# IMPORTING LIBRARIES NEEDED TO SCRAPE DATA"
   ]
  },
  {
   "cell_type": "code",
   "execution_count": 4,
   "id": "9303417f",
   "metadata": {},
   "outputs": [],
   "source": [
    "import requests\n",
    "import bs4"
   ]
  },
  {
   "cell_type": "markdown",
   "id": "81a959b8",
   "metadata": {},
   "source": [
    "## USING REQUESTS LIBRARY AND BEAUTIFUL SOUP TO CONNECT TO https://www.amazon.in/Bella-Vita-Organic-Pigmentation-Lightening/dp/B09SZGB34D/ref=sr_1_16?crid=NTANTUWR9E5V&keywords=bella+vita+organic&qid=1655700770&sprefix=bella%2Caps%2C340&sr=8-16 AND GET HTML TEXT FROM THE HOMEPAGE"
   ]
  },
  {
   "cell_type": "code",
   "execution_count": 21,
   "id": "378d3002",
   "metadata": {},
   "outputs": [],
   "source": [
    "res= requests.get(\"https://www.amazon.in/Bella-Vita-Organic-Pigmentation-Lightening/dp/B09SZGB34D/ref=sr_1_16?crid=NTANTUWR9E5V&keywords=bella+vita+organic&qid=1655700770&sprefix=bella%2Caps%2C340&sr=8-16\")"
   ]
  },
  {
   "cell_type": "markdown",
   "id": "d5479df7",
   "metadata": {},
   "source": [
    "# MAKING HTMLTEXT PRESENTABLE"
   ]
  },
  {
   "cell_type": "code",
   "execution_count": 23,
   "id": "5474d8cc",
   "metadata": {},
   "outputs": [],
   "source": [
    "soup = bs4.BeautifulSoup(res.text,'lxml')"
   ]
  },
  {
   "cell_type": "markdown",
   "id": "843d98ac",
   "metadata": {},
   "source": [
    "# GET THE NAMES OF ALL CUSTOMERS WHO GAVE REVIEWS ON THE FIRST PAGE"
   ]
  },
  {
   "cell_type": "code",
   "execution_count": 27,
   "id": "6e9f5537",
   "metadata": {},
   "outputs": [
    {
     "data": {
      "text/plain": [
       "[<span class=\"a-profile-name\">Amazon Customer</span>,\n",
       " <span class=\"a-profile-name\">Mahek</span>,\n",
       " <span class=\"a-profile-name\">Adiva </span>,\n",
       " <span class=\"a-profile-name\">Shifali saxena</span>,\n",
       " <span class=\"a-profile-name\">Roshelle </span>,\n",
       " <span class=\"a-profile-name\">VIPIN</span>,\n",
       " <span class=\"a-profile-name\">Vishali Dhar<span class=\"a-profile-verified-badge\"><span class=\"a-profile-verified-text\"></span></span></span>,\n",
       " <span class=\"a-profile-name\">Vishali Dhar</span>,\n",
       " <span class=\"a-profile-name\">Anu</span>,\n",
       " <span class=\"a-profile-name\">pragnya</span>]"
      ]
     },
     "execution_count": 27,
     "metadata": {},
     "output_type": "execute_result"
    }
   ],
   "source": [
    "soup.select(\".a-profile-name\")"
   ]
  },
  {
   "cell_type": "code",
   "execution_count": 29,
   "id": "10679a32",
   "metadata": {},
   "outputs": [],
   "source": [
    "# use set to avoid repeated names\n",
    "names=set()\n",
    "for name in soup.select(\".a-profile-name\"):\n",
    "    names.add(name.text)"
   ]
  },
  {
   "cell_type": "code",
   "execution_count": 34,
   "id": "e938137d",
   "metadata": {},
   "outputs": [
    {
     "data": {
      "text/plain": [
       "{'Adiva ',\n",
       " 'Amazon Customer',\n",
       " 'Anu',\n",
       " 'Mahek',\n",
       " 'Roshelle ',\n",
       " 'Shifali saxena',\n",
       " 'VIPIN',\n",
       " 'Vishali Dhar',\n",
       " 'pragnya'}"
      ]
     },
     "execution_count": 34,
     "metadata": {},
     "output_type": "execute_result"
    }
   ],
   "source": [
    "names"
   ]
  },
  {
   "cell_type": "code",
   "execution_count": 35,
   "id": "7b126f41",
   "metadata": {},
   "outputs": [],
   "source": [
    "names.remove(\"Amazon Customer\")"
   ]
  },
  {
   "cell_type": "code",
   "execution_count": 36,
   "id": "74262b3f",
   "metadata": {},
   "outputs": [
    {
     "data": {
      "text/plain": [
       "{'Adiva ',\n",
       " 'Anu',\n",
       " 'Mahek',\n",
       " 'Roshelle ',\n",
       " 'Shifali saxena',\n",
       " 'VIPIN',\n",
       " 'Vishali Dhar',\n",
       " 'pragnya'}"
      ]
     },
     "execution_count": 36,
     "metadata": {},
     "output_type": "execute_result"
    }
   ],
   "source": [
    "names"
   ]
  },
  {
   "cell_type": "code",
   "execution_count": 71,
   "id": "1662ac51",
   "metadata": {},
   "outputs": [
    {
     "data": {
      "text/plain": [
       "8"
      ]
     },
     "execution_count": 71,
     "metadata": {},
     "output_type": "execute_result"
    }
   ],
   "source": [
    "len(names)"
   ]
  },
  {
   "cell_type": "markdown",
   "id": "37c41dbd",
   "metadata": {},
   "source": [
    "# TO SCRAPE ALL REVIEW TITLES ON FIRST PAGE"
   ]
  },
  {
   "cell_type": "code",
   "execution_count": 62,
   "id": "d5df39c1",
   "metadata": {},
   "outputs": [],
   "source": [
    "review_titles=[]\n",
    "for revtitles in soup.select(\".review-title\"):\n",
    "    review_titles.append(revtitles.text)"
   ]
  },
  {
   "cell_type": "code",
   "execution_count": 63,
   "id": "8cf327cb",
   "metadata": {},
   "outputs": [
    {
     "data": {
      "text/plain": [
       "['\\nAmazing😍\\n',\n",
       " '\\ngood moisturiser\\n',\n",
       " '\\nSmell so nice\\n',\n",
       " '\\nThe product is absolutely amazing\\n',\n",
       " '\\nVERY NICE\\n',\n",
       " '\\nMust have gel for summer hydration!\\n',\n",
       " '\\nGreat face gel\\n',\n",
       " '\\nMust try gel for summers\\n']"
      ]
     },
     "execution_count": 63,
     "metadata": {},
     "output_type": "execute_result"
    }
   ],
   "source": [
    "review_titles"
   ]
  },
  {
   "cell_type": "code",
   "execution_count": 65,
   "id": "285df44d",
   "metadata": {},
   "outputs": [
    {
     "data": {
      "text/plain": [
       "['Amazing😍',\n",
       " 'good moisturiser',\n",
       " 'Smell so nice',\n",
       " 'The product is absolutely amazing',\n",
       " 'VERY NICE',\n",
       " 'Must have gel for summer hydration!',\n",
       " 'Great face gel',\n",
       " 'Must try gel for summers']"
      ]
     },
     "execution_count": 65,
     "metadata": {},
     "output_type": "execute_result"
    }
   ],
   "source": [
    "# to remove \\n \n",
    "review_titles[:]=[titles.lstrip('\\n') for titles in review_titles]\n",
    "review_titles[:]=[titles.rstrip('\\n') for titles in review_titles]\n",
    "review_titles"
   ]
  },
  {
   "cell_type": "markdown",
   "id": "8d0036d5",
   "metadata": {},
   "source": [
    "# A STAR RATING"
   ]
  },
  {
   "cell_type": "code",
   "execution_count": 66,
   "id": "97484e98",
   "metadata": {},
   "outputs": [],
   "source": [
    "star_rating=soup.select(\".a-icon-star\")"
   ]
  },
  {
   "cell_type": "code",
   "execution_count": 67,
   "id": "a55ba82d",
   "metadata": {},
   "outputs": [
    {
     "data": {
      "text/plain": [
       "[<i class=\"a-icon a-icon-star a-star-4-5\"><span class=\"a-icon-alt\">4.6 out of 5 stars</span></i>,\n",
       " <i class=\"a-icon a-icon-star a-star-4-5\"><span class=\"a-icon-alt\">4.6 out of 5 stars</span></i>,\n",
       " <i class=\"a-icon a-icon-star a-star-4 cr-lightbox-review-rating\"><span class=\"a-icon-alt\">4.0 out of 5 stars</span></i>,\n",
       " <i class=\"a-icon a-icon-star a-star-4 review-rating\" data-hook=\"review-star-rating\"><span class=\"a-icon-alt\">4.0 out of 5 stars</span></i>,\n",
       " <i class=\"a-icon a-icon-star a-star-5 review-rating\" data-hook=\"review-star-rating\"><span class=\"a-icon-alt\">5.0 out of 5 stars</span></i>,\n",
       " <i class=\"a-icon a-icon-star a-star-5 review-rating\" data-hook=\"review-star-rating\"><span class=\"a-icon-alt\">5.0 out of 5 stars</span></i>,\n",
       " <i class=\"a-icon a-icon-star a-star-5 review-rating\" data-hook=\"review-star-rating\"><span class=\"a-icon-alt\">5.0 out of 5 stars</span></i>,\n",
       " <i class=\"a-icon a-icon-star a-star-5 review-rating\" data-hook=\"review-star-rating\"><span class=\"a-icon-alt\">5.0 out of 5 stars</span></i>,\n",
       " <i class=\"a-icon a-icon-star a-star-4 review-rating\" data-hook=\"review-star-rating\"><span class=\"a-icon-alt\">4.0 out of 5 stars</span></i>,\n",
       " <i class=\"a-icon a-icon-star a-star-4 cr-lightbox-review-rating\"><span class=\"a-icon-alt\">4.0 out of 5 stars</span></i>,\n",
       " <i class=\"a-icon a-icon-star a-star-4 review-rating\" data-hook=\"review-star-rating\"><span class=\"a-icon-alt\">4.0 out of 5 stars</span></i>,\n",
       " <i class=\"a-icon a-icon-star a-star-5 review-rating\" data-hook=\"review-star-rating\"><span class=\"a-icon-alt\">5.0 out of 5 stars</span></i>]"
      ]
     },
     "execution_count": 67,
     "metadata": {},
     "output_type": "execute_result"
    }
   ],
   "source": [
    "star_rating"
   ]
  },
  {
   "cell_type": "code",
   "execution_count": 68,
   "id": "ce5ec053",
   "metadata": {},
   "outputs": [],
   "source": [
    "rates=[]\n",
    "for star_rates in soup.select(\".a-icon-star\"):\n",
    "    rates.append(star_rates.text)"
   ]
  },
  {
   "cell_type": "code",
   "execution_count": 69,
   "id": "421b1ff0",
   "metadata": {},
   "outputs": [
    {
     "data": {
      "text/plain": [
       "['4.6 out of 5 stars',\n",
       " '4.6 out of 5 stars',\n",
       " '4.0 out of 5 stars',\n",
       " '4.0 out of 5 stars',\n",
       " '5.0 out of 5 stars',\n",
       " '5.0 out of 5 stars',\n",
       " '5.0 out of 5 stars',\n",
       " '5.0 out of 5 stars',\n",
       " '4.0 out of 5 stars',\n",
       " '4.0 out of 5 stars',\n",
       " '4.0 out of 5 stars',\n",
       " '5.0 out of 5 stars']"
      ]
     },
     "execution_count": 69,
     "metadata": {},
     "output_type": "execute_result"
    }
   ],
   "source": [
    "rates"
   ]
  },
  {
   "cell_type": "code",
   "execution_count": 70,
   "id": "ea51f354",
   "metadata": {},
   "outputs": [
    {
     "data": {
      "text/plain": [
       "12"
      ]
     },
     "execution_count": 70,
     "metadata": {},
     "output_type": "execute_result"
    }
   ],
   "source": [
    "len(rates)"
   ]
  },
  {
   "cell_type": "code",
   "execution_count": 73,
   "id": "e8d4def2",
   "metadata": {},
   "outputs": [
    {
     "data": {
      "text/plain": [
       "'4.6 out of 5 stars'"
      ]
     },
     "execution_count": 73,
     "metadata": {},
     "output_type": "execute_result"
    }
   ],
   "source": [
    "rates.pop(0)"
   ]
  },
  {
   "cell_type": "code",
   "execution_count": 74,
   "id": "9ac03d8c",
   "metadata": {},
   "outputs": [
    {
     "data": {
      "text/plain": [
       "'4.6 out of 5 stars'"
      ]
     },
     "execution_count": 74,
     "metadata": {},
     "output_type": "execute_result"
    }
   ],
   "source": [
    "rates.pop(0)"
   ]
  },
  {
   "cell_type": "code",
   "execution_count": 77,
   "id": "c581a277",
   "metadata": {},
   "outputs": [
    {
     "data": {
      "text/plain": [
       "['4.0 out of 5 stars',\n",
       " '4.0 out of 5 stars',\n",
       " '5.0 out of 5 stars',\n",
       " '5.0 out of 5 stars',\n",
       " '5.0 out of 5 stars',\n",
       " '5.0 out of 5 stars',\n",
       " '4.0 out of 5 stars',\n",
       " '4.0 out of 5 stars',\n",
       " '4.0 out of 5 stars',\n",
       " '5.0 out of 5 stars']"
      ]
     },
     "execution_count": 77,
     "metadata": {},
     "output_type": "execute_result"
    }
   ],
   "source": [
    "rates"
   ]
  },
  {
   "cell_type": "code",
   "execution_count": 78,
   "id": "fac07811",
   "metadata": {},
   "outputs": [
    {
     "data": {
      "text/plain": [
       "'4.0 out of 5 stars'"
      ]
     },
     "execution_count": 78,
     "metadata": {},
     "output_type": "execute_result"
    }
   ],
   "source": [
    "rates.pop(0)"
   ]
  },
  {
   "cell_type": "code",
   "execution_count": 79,
   "id": "eb2e0a1b",
   "metadata": {},
   "outputs": [
    {
     "data": {
      "text/plain": [
       "'4.0 out of 5 stars'"
      ]
     },
     "execution_count": 79,
     "metadata": {},
     "output_type": "execute_result"
    }
   ],
   "source": [
    "rates.pop(5)"
   ]
  },
  {
   "cell_type": "code",
   "execution_count": 80,
   "id": "2b42e2a2",
   "metadata": {},
   "outputs": [
    {
     "data": {
      "text/plain": [
       "['4.0 out of 5 stars',\n",
       " '5.0 out of 5 stars',\n",
       " '5.0 out of 5 stars',\n",
       " '5.0 out of 5 stars',\n",
       " '5.0 out of 5 stars',\n",
       " '4.0 out of 5 stars',\n",
       " '4.0 out of 5 stars',\n",
       " '5.0 out of 5 stars']"
      ]
     },
     "execution_count": 80,
     "metadata": {},
     "output_type": "execute_result"
    }
   ],
   "source": [
    "rates"
   ]
  },
  {
   "cell_type": "markdown",
   "id": "91f5916b",
   "metadata": {},
   "source": [
    "# complete text reviews"
   ]
  },
  {
   "cell_type": "code",
   "execution_count": 82,
   "id": "6531c906",
   "metadata": {},
   "outputs": [],
   "source": [
    "text_reviews=[]\n",
    "for text in soup.select(\".review-text-content\"):\n",
    "    text_reviews.append(text.text)"
   ]
  },
  {
   "cell_type": "code",
   "execution_count": 83,
   "id": "ec497667",
   "metadata": {},
   "outputs": [
    {
     "data": {
      "text/plain": [
       "['\\nThe C - Glow Gel is for all skin types and also for men and women both. It Controls Oil and it is Non-greasy and protect Your skin from UV rays💗🌸\\n',\n",
       " '\\ni like this moisturiser, its pretty hydrating and feels nice on the skin. it makes the dark spot fade away and keep the skin bright. i also like the fragrance of this feels refreshing like oranges.\\n',\n",
       " \"\\nVery useful in Summers and Vitamin c control oil This product also cost worthy  this product Refreshing Aroma too I Love this product because of my oily skin it's help in oil control\\n\",\n",
       " '\\nI love the product and I am using it on on daily basis it’s good for the sensitive skin as well and provides good hydration to your skin can use it on a daily basis .\\n',\n",
       " \"\\nLove this face gel after using it...This gel has aloe, turmeric , papaya which are good for skin ... Product is good to use in summer. very happy to purchase it...It's organic product...This product  has no side effects..\\n\",\n",
       " '\\nI have been using this gel since long now & I must say this oil free face gel is highly recommended for summers as it keeps your skin hydrated and controls the oil production. It has ingredients like Vit C, papaya, turmeric which makes your skin glow and your skin will feel so refreshing. Must buy! 💯\\n',\n",
       " '\\nI can say that this is a great face gel for oil control especially during summers and suitable for almost all skin types. It gave my skin instant glow and also evened the tone. The irritation and redness has also reduced and it was so calming and relaxing. My acne has been reduced to a great extent. I can see visible results in just two weeks. If you want a light weight gel based face cream which controls oil, break outs and makes skin radiant, just go for it.\\n',\n",
       " '\\nVit c is a great ingredient to introduce in your Skincare. Especially this one is in gel consistency so it gets absorbs easily . I have acne prone n combination type of skin so using a face gel is a best option to keep the oily ness away and also I started seeing less breakouts.\\n']"
      ]
     },
     "execution_count": 83,
     "metadata": {},
     "output_type": "execute_result"
    }
   ],
   "source": [
    "text_reviews"
   ]
  },
  {
   "cell_type": "code",
   "execution_count": 85,
   "id": "4a17881e",
   "metadata": {},
   "outputs": [
    {
     "data": {
      "text/plain": [
       "['The C - Glow Gel is for all skin types and also for men and women both. It Controls Oil and it is Non-greasy and protect Your skin from UV rays💗🌸\\n',\n",
       " 'i like this moisturiser, its pretty hydrating and feels nice on the skin. it makes the dark spot fade away and keep the skin bright. i also like the fragrance of this feels refreshing like oranges.\\n',\n",
       " \"Very useful in Summers and Vitamin c control oil This product also cost worthy  this product Refreshing Aroma too I Love this product because of my oily skin it's help in oil control\\n\",\n",
       " 'I love the product and I am using it on on daily basis it’s good for the sensitive skin as well and provides good hydration to your skin can use it on a daily basis .\\n',\n",
       " \"Love this face gel after using it...This gel has aloe, turmeric , papaya which are good for skin ... Product is good to use in summer. very happy to purchase it...It's organic product...This product  has no side effects..\\n\",\n",
       " 'I have been using this gel since long now & I must say this oil free face gel is highly recommended for summers as it keeps your skin hydrated and controls the oil production. It has ingredients like Vit C, papaya, turmeric which makes your skin glow and your skin will feel so refreshing. Must buy! 💯\\n',\n",
       " 'I can say that this is a great face gel for oil control especially during summers and suitable for almost all skin types. It gave my skin instant glow and also evened the tone. The irritation and redness has also reduced and it was so calming and relaxing. My acne has been reduced to a great extent. I can see visible results in just two weeks. If you want a light weight gel based face cream which controls oil, break outs and makes skin radiant, just go for it.\\n',\n",
       " 'Vit c is a great ingredient to introduce in your Skincare. Especially this one is in gel consistency so it gets absorbs easily . I have acne prone n combination type of skin so using a face gel is a best option to keep the oily ness away and also I started seeing less breakouts.\\n']"
      ]
     },
     "execution_count": 85,
     "metadata": {},
     "output_type": "execute_result"
    }
   ],
   "source": [
    "text_reviews[:]=[txtrev.lstrip('\\n') for txtrev in text_reviews]\n",
    "text_reviews[:]=[txtrev.lstrip('\\n') for txtrev in text_reviews]\n",
    "text_reviews"
   ]
  },
  {
   "cell_type": "markdown",
   "id": "da0b5120",
   "metadata": {},
   "source": [
    "# TO GET COMPLETE REVIEWS FROM ALL PAGES"
   ]
  },
  {
   "cell_type": "code",
   "execution_count": 5,
   "id": "982f348f",
   "metadata": {},
   "outputs": [],
   "source": [
    "url=\"https://www.amazon.in/Bella-Vita-Organic-Pigmentation-Lightening/product-reviews/B09SZGB34D/ref=cm_cr_arp_d_paging_btm_next_2?ie=UTF8&reviewerType=all_reviews&pageNumber=\""
   ]
  },
  {
   "cell_type": "markdown",
   "id": "7ab864e3",
   "metadata": {},
   "source": [
    "# to get all customers names"
   ]
  },
  {
   "cell_type": "code",
   "execution_count": 6,
   "id": "dbbc18e0",
   "metadata": {},
   "outputs": [],
   "source": [
    "customer_names=[]\n",
    "for page in range (1,15):\n",
    "    # Concatenate to get new page URL\n",
    "    page_url = url+str(page)\n",
    "    # Obtain Request\n",
    "    res = requests.get(page_url)\n",
    "    # Turn into Soup\n",
    "    soup = bs4.BeautifulSoup(res.text,'lxml')\n",
    "    # add customer names to our list\n",
    "    for name in soup.select(\".a-profile-name\"):\n",
    "        customer_names.append(name.text)\n",
    "  \n",
    "    \n",
    "    "
   ]
  },
  {
   "cell_type": "code",
   "execution_count": 7,
   "id": "73fc56a6",
   "metadata": {},
   "outputs": [
    {
     "data": {
      "text/plain": [
       "['Adiva ',\n",
       " 'Samarth',\n",
       " 'Adiva ',\n",
       " 'Mahek',\n",
       " 'Shifali saxena',\n",
       " 'Roshelle ',\n",
       " 'VIPIN',\n",
       " 'Vishali Dhar',\n",
       " 'Vishali Dhar',\n",
       " 'Anu',\n",
       " 'pragnya',\n",
       " 'shweta shukla',\n",
       " 'rohit s.',\n",
       " 'Adiva ',\n",
       " 'Samarth',\n",
       " 'Adeena Zaman',\n",
       " 'Indushree S',\n",
       " 'Purnima',\n",
       " 'Sakshi',\n",
       " 'Monika Malviya',\n",
       " 'Parveen',\n",
       " 'Sankar RM  Ahmedabad ',\n",
       " 'Amazon Customer',\n",
       " 'Kanupriya',\n",
       " 'Sonal Swapnil Baheti',\n",
       " 'Adiva ',\n",
       " 'Samarth',\n",
       " 'Ans',\n",
       " 'Vishwa Ranjan',\n",
       " 'Rachit jain',\n",
       " 'vinith',\n",
       " 'vinith',\n",
       " 'riki gayen',\n",
       " 'tanya',\n",
       " 'Simran tewani',\n",
       " 'rajatmanan',\n",
       " 'Ishika Sarkar',\n",
       " 'Ishika Sarkar',\n",
       " 'Akriti',\n",
       " 'Adiva ',\n",
       " 'Samarth',\n",
       " 'Archi',\n",
       " 'Rohit',\n",
       " 'Anshu',\n",
       " 'Priyanka ajgaonkar',\n",
       " 'Dimple Vatwani',\n",
       " 'Abhijeet',\n",
       " 'Shibangee Chatterjee',\n",
       " 'Jacobbinu',\n",
       " 'PRATIBHA DHAR',\n",
       " 'Geet',\n",
       " 'Adiva ',\n",
       " 'Samarth',\n",
       " 'Suruchi',\n",
       " 'Jhashank Kashyap',\n",
       " 'Payal ray',\n",
       " 'Payal ray',\n",
       " 'Snehja Sanganeria',\n",
       " 'Anurag Gupta',\n",
       " 'Darshana naik',\n",
       " 'Rajat Pal',\n",
       " 'Nikhil savlani',\n",
       " 'Chaitanya Mehta/ Manila Mehta',\n",
       " 'Parmendra bajheria',\n",
       " 'Adiva ',\n",
       " 'Samarth',\n",
       " 'Tania',\n",
       " 'Tania',\n",
       " 'Suneel',\n",
       " 'Mahekgh',\n",
       " 'Priyanka Som',\n",
       " 'PUSHPA CHOUDHURY',\n",
       " 'Amazon Customer',\n",
       " 'Jbid debbarma',\n",
       " 'Jbid debbarma',\n",
       " 'Piyali Saha Mukherjee',\n",
       " 'Ashutosh upadhyay',\n",
       " 'Ashutosh upadhyay',\n",
       " 'Jyoti parmar',\n",
       " 'Adiva ',\n",
       " 'Samarth',\n",
       " 'Sibani soren',\n",
       " 'ankur',\n",
       " 'Megha Sen',\n",
       " 'Prakash Kumar',\n",
       " 'Prakash Kumar',\n",
       " 'Tarun Verma',\n",
       " 'Saurabh Srivastava',\n",
       " 'Sujoy',\n",
       " 'Mahaboobunnisa',\n",
       " 'Bhawana shama',\n",
       " 'Bhawana shama',\n",
       " 'Hanika rangani']"
      ]
     },
     "execution_count": 7,
     "metadata": {},
     "output_type": "execute_result"
    }
   ],
   "source": [
    "customer_names\n"
   ]
  },
  {
   "cell_type": "code",
   "execution_count": 8,
   "id": "9b275617",
   "metadata": {},
   "outputs": [
    {
     "data": {
      "text/plain": [
       "93"
      ]
     },
     "execution_count": 8,
     "metadata": {},
     "output_type": "execute_result"
    }
   ],
   "source": [
    "len(customer_names)"
   ]
  },
  {
   "cell_type": "markdown",
   "id": "591201a6",
   "metadata": {},
   "source": [
    "# to get all review titles"
   ]
  },
  {
   "cell_type": "code",
   "execution_count": 9,
   "id": "da815862",
   "metadata": {},
   "outputs": [],
   "source": [
    "review_titles=[]\n",
    "for page in range (1,15):\n",
    "    # Concatenate to get new page URL\n",
    "    page_url = url+str(page)\n",
    "    # Obtain Request\n",
    "    res = requests.get(page_url)\n",
    "    # Turn into Soup\n",
    "    soup = bs4.BeautifulSoup(res.text,'lxml')\n",
    "    # add review to our list\n",
    "    for revtitles in soup.select(\".review-title\"):\n",
    "        review_titles.append(revtitles.text)\n",
    "    \n",
    "    \n",
    "  "
   ]
  },
  {
   "cell_type": "code",
   "execution_count": 10,
   "id": "ebbe0db0",
   "metadata": {},
   "outputs": [
    {
     "data": {
      "text/plain": [
       "['good moisturiser',\n",
       " 'Not much effective for me!!!',\n",
       " 'Good Product',\n",
       " 'I am satisfied with this purchase!',\n",
       " 'Loved the results!',\n",
       " 'Really Good Product!',\n",
       " 'Wow',\n",
       " 'Excellent Product !!',\n",
       " 'Best Product to Get Glow on Face.',\n",
       " 'Awesome Vit C oil free gel',\n",
       " 'Must have gel for summer hydration!',\n",
       " 'Highly recommended',\n",
       " 'good moisturiser',\n",
       " 'Not much effective for me!!!',\n",
       " 'Amazing product 👍🏻',\n",
       " 'Fantastic',\n",
       " 'Best Face Gel Ever',\n",
       " 'An amazing product for Summers',\n",
       " 'Dry combination skin type',\n",
       " 'Very affective product',\n",
       " 'Good product',\n",
       " 'Honest Review',\n",
       " 'Best moisturizer for oily,acne prone amd sensitive skin',\n",
       " 'One of the best face gel , I came across',\n",
       " 'good moisturiser',\n",
       " 'Not much effective for me!!!',\n",
       " 'Awesome gel',\n",
       " 'Very Hydrating gel',\n",
       " 'Perfect moisturiser',\n",
       " 'Not much effective for me!!!',\n",
       " 'SO HYDRATING AND SMOOTH!!!',\n",
       " 'Good for skin',\n",
       " 'Must have',\n",
       " 'Good product',\n",
       " 'Beautiful product for natural glow',\n",
       " 'Natural Glow with Natural Ingredients effective for All skin types',\n",
       " 'good moisturiser',\n",
       " 'Not much effective for me!!!',\n",
       " 'C glow',\n",
       " 'Best vitamin c moisturizer',\n",
       " 'Honest review',\n",
       " 'Best product for oily skin',\n",
       " 'Amazing product .must try',\n",
       " 'Amazing face gel',\n",
       " 'Highly recommended',\n",
       " 'Fantastic product',\n",
       " 'Oily and sensitive skin - Go for it',\n",
       " 'Genuine review',\n",
       " 'good moisturiser',\n",
       " 'Not much effective for me!!!',\n",
       " 'Nice face Gel',\n",
       " 'Amazing product',\n",
       " 'Perfect for all skin type !',\n",
       " 'Great experience',\n",
       " 'Amazing product..',\n",
       " 'Great addition to my daily routine!',\n",
       " 'Amazing product',\n",
       " 'Add glow to your face',\n",
       " 'Loved the product',\n",
       " 'Amazing gel for all skin types',\n",
       " 'good moisturiser',\n",
       " 'Not much effective for me!!!',\n",
       " 'Very nice nd oil free',\n",
       " 'This is very good product for daily use',\n",
       " 'Non- greasy and provides glow',\n",
       " 'As the same suggest you can see a bright shine on your face',\n",
       " 'Amazing product G glow',\n",
       " 'Great product',\n",
       " 'Beautiful product',\n",
       " 'The skin feels good',\n",
       " \"It's absolutely fab\",\n",
       " 'Very Nice product',\n",
       " 'good moisturiser',\n",
       " 'Not much effective for me!!!',\n",
       " 'Works well for Oily skin',\n",
       " 'Product',\n",
       " 'Best product',\n",
       " 'So light on the skin!',\n",
       " 'Smells great!',\n",
       " 'Amazing product',\n",
       " 'Smells like Orange',\n",
       " 'Bella Vita C glow face gel',\n",
       " 'Gel works wonders',\n",
       " 'Affordable',\n",
       " 'good moisturiser',\n",
       " 'Not much effective for me!!!',\n",
       " 'Review for c glow gel Bella vita organic',\n",
       " 'Oily skin',\n",
       " 'I m loving my skin after using thia product. It makes me feel smoother',\n",
       " 'Amazing Product',\n",
       " 'Best for oily skin',\n",
       " 'Great',\n",
       " \"It's good products,good for all skin both for man and women.\",\n",
       " 'Love u Belle Vita',\n",
       " 'Average',\n",
       " 'Its a fabulous product.. I am happy after using it.',\n",
       " 'good moisturiser',\n",
       " 'Not much effective for me!!!',\n",
       " 'Very good product',\n",
       " 'Fantastic product',\n",
       " 'Good',\n",
       " 'Amazing product',\n",
       " 'I am fully satisfied good cream',\n",
       " 'Love it',\n",
       " 'Nice',\n",
       " 'Good product',\n",
       " 'Non sticky',\n",
       " 'Gel is very light and extremely nice',\n",
       " 'good moisturiser',\n",
       " 'Not much effective for me!!!',\n",
       " 'Good',\n",
       " 'Soft ....fragrance is awesome...should prefer to use it',\n",
       " 'The face glow gel is really lite an it gives a really soft texture to your skin go for it...',\n",
       " 'Recommend',\n",
       " 'Best face gel',\n",
       " 'Quick to absorb, easy to use.',\n",
       " 'Amazing gel',\n",
       " 'A great product for regular skincare.',\n",
       " 'Amazing product good for skin and made from organic products really love it',\n",
       " 'Perfect gel']"
      ]
     },
     "execution_count": 10,
     "metadata": {},
     "output_type": "execute_result"
    }
   ],
   "source": [
    "review_titles[:]=[titles.lstrip('\\n') for titles in review_titles]\n",
    "review_titles[:]=[titles.rstrip('\\n') for titles in review_titles]\n",
    "review_titles"
   ]
  },
  {
   "cell_type": "code",
   "execution_count": 11,
   "id": "c7ee28a9",
   "metadata": {},
   "outputs": [
    {
     "data": {
      "text/plain": [
       "120"
      ]
     },
     "execution_count": 11,
     "metadata": {},
     "output_type": "execute_result"
    }
   ],
   "source": [
    "len(review_titles)"
   ]
  },
  {
   "cell_type": "markdown",
   "id": "36ee1015",
   "metadata": {},
   "source": [
    "# to get all star ratings"
   ]
  },
  {
   "cell_type": "code",
   "execution_count": 12,
   "id": "cdab5cd9",
   "metadata": {},
   "outputs": [],
   "source": [
    "rates=[]\n",
    "for page in range (1,15):\n",
    "    # Concatenate to get new page URL\n",
    "    page_url = url+str(page)\n",
    "    # Obtain Request\n",
    "    res = requests.get(page_url)\n",
    "    # Turn into Soup\n",
    "    soup = bs4.BeautifulSoup(res.text,'lxml')\n",
    "    # add star-rating to our list\n",
    "    for star_rates in soup.select(\".a-icon-star\"):\n",
    "        rates.append(star_rates.text)"
   ]
  },
  {
   "cell_type": "code",
   "execution_count": 13,
   "id": "5d532215",
   "metadata": {},
   "outputs": [
    {
     "data": {
      "text/plain": [
       "['5.0 out of 5 stars',\n",
       " '3.0 out of 5 stars',\n",
       " '5.0 out of 5 stars',\n",
       " '4.0 out of 5 stars',\n",
       " '5.0 out of 5 stars',\n",
       " '5.0 out of 5 stars',\n",
       " '5.0 out of 5 stars',\n",
       " '4.0 out of 5 stars',\n",
       " '4.0 out of 5 stars',\n",
       " '4.0 out of 5 stars',\n",
       " '5.0 out of 5 stars',\n",
       " '5.0 out of 5 stars',\n",
       " '5.0 out of 5 stars',\n",
       " '5.0 out of 5 stars',\n",
       " '3.0 out of 5 stars',\n",
       " '5.0 out of 5 stars',\n",
       " '5.0 out of 5 stars',\n",
       " '5.0 out of 5 stars',\n",
       " '5.0 out of 5 stars',\n",
       " '5.0 out of 5 stars',\n",
       " '4.0 out of 5 stars',\n",
       " '5.0 out of 5 stars',\n",
       " '5.0 out of 5 stars',\n",
       " '5.0 out of 5 stars',\n",
       " '5.0 out of 5 stars',\n",
       " '4.0 out of 5 stars',\n",
       " '5.0 out of 5 stars',\n",
       " '3.0 out of 5 stars',\n",
       " '5.0 out of 5 stars',\n",
       " '5.0 out of 5 stars',\n",
       " '4.0 out of 5 stars',\n",
       " '5.0 out of 5 stars',\n",
       " '5.0 out of 5 stars',\n",
       " '5.0 out of 5 stars',\n",
       " '5.0 out of 5 stars',\n",
       " '5.0 out of 5 stars',\n",
       " '5.0 out of 5 stars',\n",
       " '5.0 out of 5 stars',\n",
       " '5.0 out of 5 stars',\n",
       " '4.0 out of 5 stars',\n",
       " '4.0 out of 5 stars',\n",
       " '5.0 out of 5 stars',\n",
       " '3.0 out of 5 stars',\n",
       " '5.0 out of 5 stars',\n",
       " '5.0 out of 5 stars',\n",
       " '5.0 out of 5 stars',\n",
       " '5.0 out of 5 stars',\n",
       " '5.0 out of 5 stars',\n",
       " '5.0 out of 5 stars',\n",
       " '5.0 out of 5 stars',\n",
       " '5.0 out of 5 stars',\n",
       " '5.0 out of 5 stars',\n",
       " '5.0 out of 5 stars',\n",
       " '4.0 out of 5 stars',\n",
       " '5.0 out of 5 stars',\n",
       " '5.0 out of 5 stars',\n",
       " '5.0 out of 5 stars',\n",
       " '3.0 out of 5 stars',\n",
       " '5.0 out of 5 stars',\n",
       " '5.0 out of 5 stars',\n",
       " '5.0 out of 5 stars',\n",
       " '4.0 out of 5 stars',\n",
       " '5.0 out of 5 stars',\n",
       " '5.0 out of 5 stars',\n",
       " '2.0 out of 5 stars',\n",
       " '5.0 out of 5 stars',\n",
       " '5.0 out of 5 stars',\n",
       " '4.0 out of 5 stars',\n",
       " '5.0 out of 5 stars',\n",
       " '3.0 out of 5 stars',\n",
       " '4.0 out of 5 stars',\n",
       " '1.0 out of 5 stars',\n",
       " '5.0 out of 5 stars',\n",
       " '5.0 out of 5 stars',\n",
       " '5.0 out of 5 stars',\n",
       " '5.0 out of 5 stars',\n",
       " '5.0 out of 5 stars',\n",
       " '5.0 out of 5 stars',\n",
       " '5.0 out of 5 stars',\n",
       " '5.0 out of 5 stars',\n",
       " '5.0 out of 5 stars',\n",
       " '5.0 out of 5 stars',\n",
       " '5.0 out of 5 stars',\n",
       " '3.0 out of 5 stars',\n",
       " '5.0 out of 5 stars',\n",
       " '5.0 out of 5 stars',\n",
       " '5.0 out of 5 stars',\n",
       " '5.0 out of 5 stars',\n",
       " '5.0 out of 5 stars',\n",
       " '5.0 out of 5 stars',\n",
       " '5.0 out of 5 stars',\n",
       " '5.0 out of 5 stars',\n",
       " '5.0 out of 5 stars',\n",
       " '5.0 out of 5 stars',\n",
       " '5.0 out of 5 stars',\n",
       " '5.0 out of 5 stars',\n",
       " '3.0 out of 5 stars',\n",
       " '5.0 out of 5 stars',\n",
       " '5.0 out of 5 stars',\n",
       " '5.0 out of 5 stars',\n",
       " '5.0 out of 5 stars',\n",
       " '5.0 out of 5 stars',\n",
       " '5.0 out of 5 stars',\n",
       " '5.0 out of 5 stars',\n",
       " '5.0 out of 5 stars',\n",
       " '5.0 out of 5 stars',\n",
       " '5.0 out of 5 stars',\n",
       " '5.0 out of 5 stars',\n",
       " '5.0 out of 5 stars',\n",
       " '5.0 out of 5 stars',\n",
       " '5.0 out of 5 stars',\n",
       " '5.0 out of 5 stars',\n",
       " '3.0 out of 5 stars',\n",
       " '5.0 out of 5 stars',\n",
       " '5.0 out of 5 stars',\n",
       " '5.0 out of 5 stars',\n",
       " '5.0 out of 5 stars',\n",
       " '5.0 out of 5 stars',\n",
       " '4.0 out of 5 stars',\n",
       " '5.0 out of 5 stars',\n",
       " '5.0 out of 5 stars',\n",
       " '5.0 out of 5 stars',\n",
       " '5.0 out of 5 stars',\n",
       " '4.0 out of 5 stars',\n",
       " '4.0 out of 5 stars',\n",
       " '5.0 out of 5 stars',\n",
       " '5.0 out of 5 stars',\n",
       " '3.0 out of 5 stars',\n",
       " '4.0 out of 5 stars',\n",
       " '4.0 out of 5 stars',\n",
       " '5.0 out of 5 stars',\n",
       " '5.0 out of 5 stars',\n",
       " '5.0 out of 5 stars',\n",
       " '5.0 out of 5 stars',\n",
       " '5.0 out of 5 stars',\n",
       " '5.0 out of 5 stars',\n",
       " '5.0 out of 5 stars',\n",
       " '5.0 out of 5 stars',\n",
       " '5.0 out of 5 stars',\n",
       " '5.0 out of 5 stars',\n",
       " '5.0 out of 5 stars',\n",
       " '3.0 out of 5 stars',\n",
       " '5.0 out of 5 stars',\n",
       " '5.0 out of 5 stars',\n",
       " '5.0 out of 5 stars',\n",
       " '5.0 out of 5 stars',\n",
       " '5.0 out of 5 stars',\n",
       " '5.0 out of 5 stars',\n",
       " '5.0 out of 5 stars',\n",
       " '5.0 out of 5 stars',\n",
       " '5.0 out of 5 stars',\n",
       " '5.0 out of 5 stars',\n",
       " '5.0 out of 5 stars']"
      ]
     },
     "execution_count": 13,
     "metadata": {},
     "output_type": "execute_result"
    }
   ],
   "source": [
    "rates\n"
   ]
  },
  {
   "cell_type": "code",
   "execution_count": 14,
   "id": "f6805231",
   "metadata": {},
   "outputs": [
    {
     "data": {
      "text/plain": [
       "153"
      ]
     },
     "execution_count": 14,
     "metadata": {},
     "output_type": "execute_result"
    }
   ],
   "source": [
    "len(rates)"
   ]
  },
  {
   "cell_type": "markdown",
   "id": "ea80181b",
   "metadata": {},
   "source": [
    "# to get all text reveiws"
   ]
  },
  {
   "cell_type": "code",
   "execution_count": 15,
   "id": "0c01eefb",
   "metadata": {},
   "outputs": [],
   "source": [
    "text_reviews=[]\n",
    "for page in range (1,15):\n",
    "    # Concatenate to get new page URL\n",
    "    page_url = url+str(page)\n",
    "    # Obtain Request\n",
    "    res = requests.get(page_url)\n",
    "    # Turn into Soup\n",
    "    soup = bs4.BeautifulSoup(res.text,'lxml')\n",
    "    # add text review to our list\n",
    "    for text in soup.select(\".review-text-content\"):\n",
    "        text_reviews.append(text.text)\n",
    "    "
   ]
  },
  {
   "cell_type": "code",
   "execution_count": 16,
   "id": "e4866025",
   "metadata": {},
   "outputs": [
    {
     "data": {
      "text/plain": [
       "['i like this moisturiser, its pretty hydrating and feels nice on the skin. it makes the dark spot fade away and keep the skin bright. i also like the fragrance of this feels refreshing like oranges.\\n',\n",
       " 'The C - Glow Gel is for all skin types and also for men and women both. It Controls Oil and it is Non-greasy and protect Your skin from UV rays💗🌸\\n',\n",
       " \"Very useful in Summers and Vitamin c control oil This product also cost worthy  this product Refreshing Aroma too I Love this product because of my oily skin it's help in oil control\\n\",\n",
       " 'I love the product and I am using it on on daily basis it’s good for the sensitive skin as well and provides good hydration to your skin can use it on a daily basis .\\n',\n",
       " \"Love this face gel after using it...This gel has aloe, turmeric , papaya which are good for skin ... Product is good to use in summer. very happy to purchase it...It's organic product...This product  has no side effects..\\n\",\n",
       " 'I have been using this gel since long now & I must say this oil free face gel is highly recommended for summers as it keeps your skin hydrated and controls the oil production. It has ingredients like Vit C, papaya, turmeric which makes your skin glow and your skin will feel so refreshing. Must buy! 💯\\n',\n",
       " 'I can say that this is a great face gel for oil control especially during summers and suitable for almost all skin types. It gave my skin instant glow and also evened the tone. The irritation and redness has also reduced and it was so calming and relaxing. My acne has been reduced to a great extent. I can see visible results in just two weeks. If you want a light weight gel based face cream which controls oil, break outs and makes skin radiant, just go for it.\\n',\n",
       " 'Vit c is a great ingredient to introduce in your Skincare. Especially this one is in gel consistency so it gets absorbs easily . I have acne prone n combination type of skin so using a face gel is a best option to keep the oily ness away and also I started seeing less breakouts.\\n',\n",
       " 'I got this vitamin C gel last week. This product has very light consistency, which makes it easier to keep on my face whole night. I apply it on my face before sleeping and keep it whole night. I have seen some amazing results out of it. This product is really effective. It can be used on sensitive and dry skin as well.\\n',\n",
       " \"The C - Glow Gel is for all skin types and also it is unisex . It Controls Oil and it is Non-greasy and protect Your skin from UV rays also the smell is very nice it has some orange tangy smell  really loved the smell.... After using few days results are visible my skin became more soft... Quantity of this product is comparatively good... I'm gonna buy it again\\n\",\n",
       " 'The Bella Vita Organic C-Glow Oil-free Face Gel is made with Vitamin C, an antioxidant, & controls oil production & protects against free radicals & UV rays. This face gel for men and women is an oil control hydration gel that gives matte, oil-free, hydrated skin. It’s a natural face gel that is an effective solution for combating pigmentation & reviving damaged skin.\\n',\n",
       " 'Enrich with vitamin c and helps in brightening uneven skin tone. Lathers up well and washes off easily without leaving any residues. Pleasant fragrance. Deeply cleanse the pores and leaves a smooth supple skin. I am satisfied with this purchase!\\n',\n",
       " 'I am using Bella Vita Organic C- glow face gel since one week it has amazing results .It Controls Oil and it is Non-greasy and protect Your skin from UV rays.The best part is that you can use it day and night both the time and its 100% Natural.\\n',\n",
       " 'I like this gel so much because firstly it has the perfect light texture for summer, & looks so aesthetically pleasing too! When it comes to my experience, it has become a regular, effective addition to my current Vitamin C focused routine and I absolutely love using it!\\n',\n",
       " \"Am writing this review after using it regularly for 2 weeks.1. Did not observe any pimple or irritation2. This moisturizer is great for oily skin. It gets absorbed quickly and it's non sticky and non greasy.3. If has a strong orange flavour , if you are someone who likes orange flavours then this would be your go to product.\\n\",\n",
       " 'Must-Try product... it is very nice and excellent for all..It is super lightweight, nongreasy, and does not make the skin oily.It sits matte and hydrates the skin. A must-try!The product fragrance is like you are actually applying orange peel on your face.This product is a lightweight moisturizer and is best for summers.I will recommend this product\\n',\n",
       " 'Bella Vita Organic C Glow is really a very great product, the time I am using this I am getting very good results as per its name so does the results of it stands for \"GLOW\" yes I am happy that I came across such a valuable product which suits to my skin and giving it a shiny glow, thanks Bella Vita for making such an awesome product for us. I recommend everyone who wants to get glow on their face must use this once I guarantee you will come back and buy Bella Vita Organic C Glow again and again.\\n',\n",
       " 'Recently i got Bella Vita Organic Vit C-Glow face gel . Its a ayurvedic formula, non- greasy, best for combination and sensitive skin. It helps in brightening face. My skin gets oily during the day time but just loving using this gel, its super light in weight.The best thing which i really liked about it is that it can be used under makeup as primer.\\n',\n",
       " \"Initially I was hesitant in buying anything for my face coz I don't use anything for my face but because it was a natural product I bought it. I have been using this gel for around 5 days and it does wonders on my skin. I have very oily and acne prone skin and this gel removes excess oil from face and clears the acne scars. Very helpful for oily skin. Highly satisfied with this product by bella vita 😍❤️. I have ordered their face cream also will review it later ✌🏻\\n\",\n",
       " 'The main ingredients in this face gel is papaya, alovera, vitamin C. All of them treat the dark pigmented area.As it is oil-free, it is superlight in weight and easily absorbed on my skin. This gel also has exfoliating properties which helps in removing dead skins. And yes, it helps to treat the blemishes of my skin as well and act as good hydrator as well.\\n',\n",
       " 'The face gel is amazing 👌🏻Perfect for people facing pigmentation.It brightens your skin without making it dry.It is perfectly natural and perfect for almost every skin type.Please do a patch test if you are suffering from any skin problems.👍🏻🤩\\n',\n",
       " 'Bella face Gel gets absorbed into the skin very very easily and doesn’t even feel like you have applied anything. The best part is it makes the skin soft, a little smooth but doesn’t plump it up. As you start applying the product onto the skin it turns into slightly runny texture and spreads easily and gets absorbed as if you haven’t applied anything.\\n',\n",
       " \"Loved this face gel and would like to continue this in my daliy routine. it has Non-greasy, non-sticky formula so that it doesn't feel sticky on ur face... it get absorb in ur skin...keep skin hydrated and glowing...It smells great. A good moisturizer if you have oily or acne prone skin.\\n\",\n",
       " '                    The media could not be loaded.\\n                \\n\\n\\n\\n\\xa0I personally sweat a lot and this lightweight , non sticky gel helps hydrating my skin as well as control oil production. It helps with pigmentation and dark spots. I can feel the difference on my skin in just few days and definitely will highly recommend this product.\\n',\n",
       " 'I have a dry combination skin type where the C - Glow gel is oily and the rest of the face is dry, the oil free moisturizer works very well for both areas. I wear it comfortably during the day and despite the fact I am in an AC environment all day, there is no need to re-application. The texture of my skin is improved and I love how glowy it feels.\\n',\n",
       " 'Nice product\\n',\n",
       " 'Bella vita organic c-glow oil free face gel is an amazing product. This is a holy-grail product for oily to dry skin people.It worked amazing on my face.Its very moisturizing and you can feel the glow for sure , and it has a beautiful aroma too.Overall this product is a must buy for all and i will repurchase this very soon .\\n',\n",
       " \"Its a gel cream good for summer days and it absorb quickly doesn't leave any sticky ness on face . I have a dry skin but it's doesn't make me feel dry . Hold mosturizing for up to 6 hours . Provide a light glow on face . It has a mild fragrance of orange which is great for calming.\\n\",\n",
       " 'This bella vita gel moisturizer is the best pick at this price. I do have combination skin, it had suited me so well that now i won’t be searching any other moisturizer anymore. It had controlled my face oil making it fresh and supple, it doesnot break me out like other moisturizers or aloe gel. If you are looking out for a gel moisturizer this summer then this will prove to be the best choice for you to make. The scent is very mild citric which is calming to the senses, on applying it will suddenly provide that coolness effect to your face which is quiet refreshing.\\n',\n",
       " 'I’m so glad to come across Bella vita organic C- free face Gel .It’s so refreshing and feels light on the skin when applied . It has mild orange scent which is more likely to be on skin . The ingredients aloe Vera , papaya extract , saffron , turmeric extra , glycerin , vitamin E  are well known for the goodness of the skin so it does justice. It helped my skin from giving proper hydration required by my skin , helps with the pigmentation , the blood flow circulation reacts to smooth , lighten complexion .\\n',\n",
       " 'I have oily skin and this gel works like wonder. I love that it has non sticky formula which keeps my skin hydrated throughout the day and gives me a glowing beautiful look. It is also light weight and I love the fragrance. Worth every penny\\n',\n",
       " 'This product is a lightweight moisturizer and is best for summers. It is non-greasy and non-sticky, It absorbs really nicely into the skin, It is lightweight and oil-free, hence can be used by any skin type people comfortably.\\n',\n",
       " 'This is perfect moisturiser for all skin types. This product has very lightweight gel that everyone can us this. Skin feels very soft and glowing after one application. Highly recommend this product to everyone.\\n',\n",
       " \"I hv been using from last one week but can't notice any difference 😕 may b coz of hot weather & worst part is my pimples erupted more after applying it🤦\\u200d♀️found it LIL STICKY too.Guys seriously,if u r going through acne or pimples infected skin then go for a good ointment to control bfore it gets more worst🙏\\n\",\n",
       " 'this gel works amazingly, the scent as well as the texture is easy to apply and well blended on the skin, it would be the  best moisturiser for people who have oily/combination skin. This should be your add on in this summer. Vitamin C is a must to add in your regime.\\n',\n",
       " \"In love with this C glow oil free face gel. After applying this gel my skin feels so hydrated.  It's a non sticky face gel and good for summer. The fragrance is just wow.  Very nice on my skin.\\n\",\n",
       " 'First of all the packaging of this C glow face gel is so good , it comes in a glass packaging. It is an oil control hydration gel . It contains vit.C , papaya , turmeric and aloe . This gel doesnot make my skin feel oily but the only thing which can be an issue for some people is its fragrance .\\n',\n",
       " 'Texture is so smooth, gel formationOrange fragranceYour skin will feel smooth n non- oily 👌🏻👌🏻👌🏻👌🏻\\n',\n",
       " \"Love this glow On my face.I tried this C- GLOW face gelIt's a hydration gel, formulated with vitamin C, papaya Turmeric &Aloe Extracts.Can use daily AM& PM. Suitable for all skin types.In love with this product\\n\",\n",
       " \"I have started using still product for a while now it's amazing the gel with vitamin C, papaya, Alovera and turmeric enhance and glow your skin naturally, it blends easily and keeps the moisture intact for longer hours. A must buy product in your skincare routine.\\n\",\n",
       " 'The product fragrance is like you are actually applying orange peel on your face it’s really refreshing I really like this product my skin is kinda glowing only after one use and the best part is it’s really affordable .\\n',\n",
       " 'I recently got my hands on this vitamin c gel and I am loving it.It is super light weight, non greasy, does not make the skin oily.It sits matte and hydrates the skin. A must try!\\n',\n",
       " 'Soothing smell,easy to absorb on skin,totally chemical free.overall,it is boon for summer.i love this gel.\\n',\n",
       " 'I like the fragrance and texture of the product.. You will not get oil on your face after using it. It makes my skin to glow  and have remove the blemishes. loved it\\n',\n",
       " 'this vitamin c gel is non-greasy and non- sticky. beautiful texture with quick absorption. very much useful in summer. it is very hydrating and leaves a natural sheen on the skin.\\n',\n",
       " \"I love this product it's so amazing and it's brightens & soothens skin. Clears excess oil, dirt & impurities. ... Purifies\\n\",\n",
       " 'Not good. Nothing as claimed. Sticky and skill looks oily. Amazon should not encourage these kind of products\\n',\n",
       " 'It is an effective oil free face gel. It is a oil control hydration gel. It can also help for reviving damaged skin. Fragrance is superb. It also protects the skin from harmful uv rays. Worth buying.\\n',\n",
       " 'I bought this product few months back and I really like this oil control cream. It gives skin a soft glow. You can even use this at night before sleeping, it will help you to control your skin oil.\\n',\n",
       " 'This formula is mind-blowing!! Beautiful texture, quick to absorb, easy to use. It leaves a natural sheen on the skin. It is very hydrating without leaving the skin oily. It has a lightweight feel and is non-greasy. Love it.\\n',\n",
       " 'This face gel so fresh and fruity. It gives a very refreshing feeling once applied. It hydrates the skin really well and helps it keep soft and supple always. A thumbs up from my side. 👍\\n',\n",
       " 'It smells like medicine. Not a good product for skill. It etching after using this product.\\n',\n",
       " \"It's an value for money product . I like it's scent . It's maintain glow on face . after using it feel like soft skin . It have vitamin c which is good of skin .\\n\",\n",
       " 'It is so good. The gel has a good odour. It controls oil on face and I used morning and night it have me great results.Recommended everyone to buy. Suitable for all skin types.\\n',\n",
       " 'I have been using this daily from last 1 week it has made my skin hydrated and glowing. It is a very lightweight and it absorbs very quick. the texture of the product is very good .I liked this product.\\n',\n",
       " 'i have sensitive skin but this product suits on me and it’s give ms effect & instant glow on my skin … i use it as moisturiser before  starting my makeup … it gives smooth & glowing skin with the goodness of vit - c\\n',\n",
       " 'I am using this c glow face gel as it has all-natural ingredients which work well on brightening the overall complexion, controlling excess oil production, and nourishing the skin.\\n',\n",
       " 'It is a very light gel. This face gel is very useful in summers. My skin feels light and smooth. The vitamin C formula seems to work.\\n',\n",
       " 'The product is in gel form so its really Light weight and easily AbsorbableAnd the smell is too goodMUST TRY IT❤️\\n',\n",
       " 'Really like this product, In love with this C-Glow Face Gel. It is so light on theskin, perfect for the summers and has also decreasedmy dark spots. Must buy!\\n',\n",
       " 'I have been using the face gel for last 10 days I felt by using this face gel my skin has become soft and my dead cells are healing. I personally recommend this to others.\\n',\n",
       " 'This is a very good product for daily use. This product has no side effects. It is good and safe for skin and very good performance.it is a very useful product and I really appreciate this.\\n',\n",
       " 'This face gel is amazing in summers because of its gel like texture which get absorbed in skin very quickly and gives fantastic glow on face.\\n',\n",
       " 'The cream absorbs very quickly into the skin and the smell of it is very refreshing. There is no stickiness on your face it actually shines after application.\\n',\n",
       " 'Everything about this product is amazing it is totally organic and you will get actual glow after applying it just loved it\\n',\n",
       " \"Best face gel for summers with mild fragrance, doesn't make my skin sticky or oily, gives matte hydrated skin. I have used it for a week now and it's amazing. Worth buying. 👍\\n\",\n",
       " \"It's the best type of product for my oily-combination skin. Gave the perfect amount of glow and hydration without making it oily. Love this one under makeup too.\\n\",\n",
       " 'Have been using it for over two weeks, must say that the gel is very light on skin and skin feels better.. Nice fragrance too.\\n',\n",
       " 'Since it has vitamin c I purchased but eventually found it actually moisturizes the skin so well. Will stock up more for sure.\\n',\n",
       " 'It’s really refreshing I really like this product my skin is glowing after using this and the best thing is it’s fragnance.\\n',\n",
       " 'Vitamin C gel is nice consistentcy and works well with my oily skin. I love the light smell and gel texture\\n',\n",
       " 'It is great product with very good quality. Also has pure extracts many useful substances. Totally satisfied. Worth buying it 👍🏻\\n',\n",
       " 'So recently I got this product and it’s really working for my skin❤️\\n',\n",
       " 'In love with this C-Glow Face Gel. It is so light on the skin, perfect for the summers and has also decreased my dark spots. Must buy!\\n',\n",
       " 'Loved the scent. Removed oil and dirt from face skin and gave a smooth and fresh feeling.\\n',\n",
       " \"Amazing product... it's non sticky and non greasy absorb quickly...result is very good...\\n\",\n",
       " 'Very light in texture and suitable for all skin types. I can definitely recommend you to try this .\\n',\n",
       " 'C-GLOW OIL FREE FACE GEL , ANTI BLEEMISH AND PIGMENTATION , BRIGHTNESS CONTROL OIL PRODUCT.\\n',\n",
       " 'It leaves a flowery scent on skin. It’s soothing and nice.\\n',\n",
       " 'Very amazing moisturizer for daily use in summers. Very affordable..worth the price\\n',\n",
       " 'The smoothness of this product is amazing. Loved how they made the product oil free. Def worth the price.\\n',\n",
       " 'Perfect for oily skin or any skintype ... Very hydrating .. i loved it\\n',\n",
       " \"It's makes the skin soft n supple. Moisturize the skin for long time\\n\",\n",
       " 'This is absolutely fantastic product especially if you have oily type of skin. Works magical\\n',\n",
       " 'Very useful for summers non sticky best suit for oily skin people gives instant glow after applying.\\n',\n",
       " 'Great for all\\n',\n",
       " 'I like the product,its for all skin type & both man women can use it.\\n',\n",
       " \"See glow on my face from the 1st day,,,, I'm glowing,,,\\n\",\n",
       " 'Like the texture good for oily skin but average for the rough skin\\n',\n",
       " 'Goodness of natural ingredients and glowing skin.\\n',\n",
       " 'Good product\\n',\n",
       " 'Must try !!\\n',\n",
       " 'Nothing yet.\\n',\n",
       " 'Good\\n',\n",
       " 'Your fuss-free route to even skin tone is here! An oil control hydration gel, formulated with Vitamin C, Papaya and Aloe extracts works on controlling oil production, combats blemishes and pigmentation and brightens and nourishes the skin. A non-sticky formula, The C-Glow Oil-Free Face Gel is an effective solution for reviving damaged skin from within. An antioxidant powerhouse, Vitamin C effectively controls oil production and protects against free radicals and harmful UV rays. Anti-inflammatory properties of Aloe Vera soothe and heal skin against redness & itching whilst Papaya extracts are rich in Vitamin A and C which effectively removes dead skin cells for matte, oil-free and hydrated skin.\\n',\n",
       " 'Really love this face gel after using it. It gives immense glow to my face and make my skin brighter. I am using it on daily basis. I just loved this product and highly recommended to everyone worth trying.\\n',\n",
       " \"It feels refreshing in this summer .it's oil control and gives hydration to skin.i use it on daily basis and the aromatic smell is just awesome.\\n\",\n",
       " 'Ita a lightweight gel- suitable for summers. non-greasy and absorbs really well with my skin keeps it hydrated. I love the smell. Worked well for my skin\\n',\n",
       " \"I use for my dry skin and it's works yo make my skin soft and healthy really amazing product. You can buy it without any worries\\n\",\n",
       " 'Nice product nice quality.very effective results I got within 2days. it work as a fast skin booster.i apply twice a day\\n']"
      ]
     },
     "execution_count": 16,
     "metadata": {},
     "output_type": "execute_result"
    }
   ],
   "source": [
    "text_reviews[:]=[txtrev.lstrip('\\n') for txtrev in text_reviews]\n",
    "text_reviews[:]=[txtrev.lstrip('\\n') for txtrev in text_reviews]\n",
    "text_reviews"
   ]
  },
  {
   "cell_type": "code",
   "execution_count": 30,
   "id": "7aa45e54",
   "metadata": {},
   "outputs": [
    {
     "data": {
      "text/plain": [
       "pandas.core.frame.DataFrame"
      ]
     },
     "execution_count": 30,
     "metadata": {},
     "output_type": "execute_result"
    }
   ],
   "source": [
    "type(text_reviews)"
   ]
  },
  {
   "cell_type": "markdown",
   "id": "cb9196a5",
   "metadata": {},
   "source": [
    "# to store our data in excel file"
   ]
  },
  {
   "cell_type": "code",
   "execution_count": null,
   "id": "36542eeb",
   "metadata": {},
   "outputs": [],
   "source": []
  },
  {
   "cell_type": "code",
   "execution_count": 18,
   "id": "03b4cf5c",
   "metadata": {},
   "outputs": [],
   "source": [
    "import pandas as pd"
   ]
  },
  {
   "cell_type": "code",
   "execution_count": 28,
   "id": "37648b98",
   "metadata": {},
   "outputs": [],
   "source": [
    "df=pd.DataFrame()"
   ]
  },
  {
   "cell_type": "code",
   "execution_count": 35,
   "id": "eea190d5",
   "metadata": {},
   "outputs": [
    {
     "data": {
      "text/html": [
       "<div>\n",
       "<style scoped>\n",
       "    .dataframe tbody tr th:only-of-type {\n",
       "        vertical-align: middle;\n",
       "    }\n",
       "\n",
       "    .dataframe tbody tr th {\n",
       "        vertical-align: top;\n",
       "    }\n",
       "\n",
       "    .dataframe thead th {\n",
       "        text-align: right;\n",
       "    }\n",
       "</style>\n",
       "<table border=\"1\" class=\"dataframe\">\n",
       "  <thead>\n",
       "    <tr style=\"text-align: right;\">\n",
       "      <th></th>\n",
       "      <th>review_titles</th>\n",
       "      <th>customer names</th>\n",
       "      <th>star-rating</th>\n",
       "      <th>review-content</th>\n",
       "    </tr>\n",
       "  </thead>\n",
       "  <tbody>\n",
       "    <tr>\n",
       "      <th>0</th>\n",
       "      <td>good moisturiser</td>\n",
       "      <td>Adiva</td>\n",
       "      <td>5.0 out of 5 stars</td>\n",
       "      <td>i like this moisturiser, its pretty hydrating ...</td>\n",
       "    </tr>\n",
       "    <tr>\n",
       "      <th>1</th>\n",
       "      <td>Not much effective for me!!!</td>\n",
       "      <td>Samarth</td>\n",
       "      <td>3.0 out of 5 stars</td>\n",
       "      <td>The C - Glow Gel is for all skin types and als...</td>\n",
       "    </tr>\n",
       "    <tr>\n",
       "      <th>2</th>\n",
       "      <td>Good Product</td>\n",
       "      <td>Adiva</td>\n",
       "      <td>5.0 out of 5 stars</td>\n",
       "      <td>Very useful in Summers and Vitamin c control o...</td>\n",
       "    </tr>\n",
       "    <tr>\n",
       "      <th>3</th>\n",
       "      <td>I am satisfied with this purchase!</td>\n",
       "      <td>Mahek</td>\n",
       "      <td>4.0 out of 5 stars</td>\n",
       "      <td>I love the product and I am using it on on dai...</td>\n",
       "    </tr>\n",
       "    <tr>\n",
       "      <th>4</th>\n",
       "      <td>Loved the results!</td>\n",
       "      <td>Shifali saxena</td>\n",
       "      <td>5.0 out of 5 stars</td>\n",
       "      <td>Love this face gel after using it...This gel h...</td>\n",
       "    </tr>\n",
       "    <tr>\n",
       "      <th>...</th>\n",
       "      <td>...</td>\n",
       "      <td>...</td>\n",
       "      <td>...</td>\n",
       "      <td>...</td>\n",
       "    </tr>\n",
       "    <tr>\n",
       "      <th>115</th>\n",
       "      <td>Quick to absorb, easy to use.</td>\n",
       "      <td>NaN</td>\n",
       "      <td>5.0 out of 5 stars</td>\n",
       "      <td>NaN</td>\n",
       "    </tr>\n",
       "    <tr>\n",
       "      <th>116</th>\n",
       "      <td>Amazing gel</td>\n",
       "      <td>NaN</td>\n",
       "      <td>5.0 out of 5 stars</td>\n",
       "      <td>NaN</td>\n",
       "    </tr>\n",
       "    <tr>\n",
       "      <th>117</th>\n",
       "      <td>A great product for regular skincare.</td>\n",
       "      <td>NaN</td>\n",
       "      <td>5.0 out of 5 stars</td>\n",
       "      <td>NaN</td>\n",
       "    </tr>\n",
       "    <tr>\n",
       "      <th>118</th>\n",
       "      <td>Amazing product good for skin and made from or...</td>\n",
       "      <td>NaN</td>\n",
       "      <td>4.0 out of 5 stars</td>\n",
       "      <td>NaN</td>\n",
       "    </tr>\n",
       "    <tr>\n",
       "      <th>119</th>\n",
       "      <td>Perfect gel</td>\n",
       "      <td>NaN</td>\n",
       "      <td>5.0 out of 5 stars</td>\n",
       "      <td>NaN</td>\n",
       "    </tr>\n",
       "  </tbody>\n",
       "</table>\n",
       "<p>120 rows × 4 columns</p>\n",
       "</div>"
      ],
      "text/plain": [
       "                                         review_titles  customer names  \\\n",
       "0                                     good moisturiser          Adiva    \n",
       "1                         Not much effective for me!!!         Samarth   \n",
       "2                                         Good Product          Adiva    \n",
       "3                   I am satisfied with this purchase!           Mahek   \n",
       "4                                   Loved the results!  Shifali saxena   \n",
       "..                                                 ...             ...   \n",
       "115                      Quick to absorb, easy to use.             NaN   \n",
       "116                                        Amazing gel             NaN   \n",
       "117              A great product for regular skincare.             NaN   \n",
       "118  Amazing product good for skin and made from or...             NaN   \n",
       "119                                        Perfect gel             NaN   \n",
       "\n",
       "            star-rating                                     review-content  \n",
       "0    5.0 out of 5 stars  i like this moisturiser, its pretty hydrating ...  \n",
       "1    3.0 out of 5 stars  The C - Glow Gel is for all skin types and als...  \n",
       "2    5.0 out of 5 stars  Very useful in Summers and Vitamin c control o...  \n",
       "3    4.0 out of 5 stars  I love the product and I am using it on on dai...  \n",
       "4    5.0 out of 5 stars  Love this face gel after using it...This gel h...  \n",
       "..                  ...                                                ...  \n",
       "115  5.0 out of 5 stars                                                NaN  \n",
       "116  5.0 out of 5 stars                                                NaN  \n",
       "117  5.0 out of 5 stars                                                NaN  \n",
       "118  4.0 out of 5 stars                                                NaN  \n",
       "119  5.0 out of 5 stars                                                NaN  \n",
       "\n",
       "[120 rows x 4 columns]"
      ]
     },
     "execution_count": 35,
     "metadata": {},
     "output_type": "execute_result"
    }
   ],
   "source": [
    "df['review_titles'] = pd.Series (review_titles)\n",
    "df['customer names'] = pd.Series(customer_names)\n",
    "df['star-rating']=pd.Series(rates)\n",
    "df['review-content']=text_reviews\n",
    "df"
   ]
  },
  {
   "cell_type": "code",
   "execution_count": 36,
   "id": "52b91d73",
   "metadata": {},
   "outputs": [],
   "source": [
    "df.to_csv(r'C:\\Users\\visha\\OneDrive\\Documents\\reviews.csv',index=True)"
   ]
  },
  {
   "cell_type": "code",
   "execution_count": null,
   "id": "92a56d90",
   "metadata": {},
   "outputs": [],
   "source": []
  }
 ],
 "metadata": {
  "kernelspec": {
   "display_name": "Python 3 (ipykernel)",
   "language": "python",
   "name": "python3"
  },
  "language_info": {
   "codemirror_mode": {
    "name": "ipython",
    "version": 3
   },
   "file_extension": ".py",
   "mimetype": "text/x-python",
   "name": "python",
   "nbconvert_exporter": "python",
   "pygments_lexer": "ipython3",
   "version": "3.9.12"
  }
 },
 "nbformat": 4,
 "nbformat_minor": 5
}
